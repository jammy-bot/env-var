{
 "cells": [
  {
   "cell_type": "markdown",
   "metadata": {},
   "source": [
    "# Environment Variables"
   ]
  },
  {
   "cell_type": "markdown",
   "metadata": {},
   "source": [
    "Local environment variables are useful for storing credentials on a local machine. Your operating system uses them to identify things like the location of your temporary directory or your Python installation path. You can also use them yourself in code.\n",
    "\n",
    "In Python, you can reference environment variables without exposing their values to users on other machines. This can be handy when your code requires you to sign into a service or log in to a private server.\n",
    "\n",
    "Environment values not only can be accessed using Python, they can be created. Let's see how we can set and get environment variables in Python."
   ]
  },
  {
   "cell_type": "markdown",
   "metadata": {},
   "source": [
    "To work with environment variables, we will import Python's os package. The methods in os are used to interact with the operating system. You may already be familiar with many of its uses, including navigating directories, listing files, and referencing file paths."
   ]
  },
  {
   "cell_type": "code",
   "execution_count": 1,
   "metadata": {},
   "outputs": [],
   "source": [
    "# importing os\n",
    "import os"
   ]
  },
  {
   "cell_type": "markdown",
   "metadata": {},
   "source": [
    "We will use `os.environ`, a mapping object that represents user environment variables as key/value pairs. We can print the variables in a neat list, like so:"
   ]
  },
  {
   "cell_type": "code",
   "execution_count": 2,
   "metadata": {
    "scrolled": true
   },
   "outputs": [
    {
     "name": "stdout",
     "output_type": "stream",
     "text": [
      "68 total environment variables\n"
     ]
    },
    {
     "data": {
      "text/plain": [
       "['ALLUSERSPROFILE',\n",
       " 'APPDATA',\n",
       " 'CENSUSDATAKEY',\n",
       " 'COMMONPROGRAMFILES',\n",
       " 'COMMONPROGRAMFILES(X86)']"
      ]
     },
     "execution_count": 2,
     "metadata": {},
     "output_type": "execute_result"
    }
   ],
   "source": [
    "# printing the number of environment variables\n",
    "# (defined when the notebook/script was loaded)\n",
    "print(len(list(os.environ)), \n",
    "      \"total environment variables\")\n",
    "\n",
    "# listing environment variable keys \n",
    "list(os.environ)[:5] # first 5 keys only"
   ]
  },
  {
   "cell_type": "markdown",
   "metadata": {},
   "source": [
    "You can enter \"os.environ\" in Python and view all of its keys as a sting, if you like.\n",
    "\n",
    "To add a new environment variable, we determine a name for its key and set it equal to a string value. Below, we create a `TEST_USER` and a `TEST_PASSWORD` variable."
   ]
  },
  {
   "cell_type": "code",
   "execution_count": 3,
   "metadata": {},
   "outputs": [],
   "source": [
    "# setting environment variables\n",
    "os.environ['TEST_USER'] = 'Username'\n",
    "os.environ['TEST_PASSWORD'] = 'sEcReT'"
   ]
  },
  {
   "cell_type": "markdown",
   "metadata": {},
   "source": [
    "We will not need to print all of the environment keys to verify the two we just created. We can store them as objects and print them."
   ]
  },
  {
   "cell_type": "code",
   "execution_count": 4,
   "metadata": {},
   "outputs": [],
   "source": [
    "# getting environment variables\n",
    "user = os.getenv('TEST_USER')\n",
    "password = os.getenv('TEST_PASSWORD')"
   ]
  },
  {
   "cell_type": "code",
   "execution_count": 5,
   "metadata": {},
   "outputs": [
    {
     "name": "stdout",
     "output_type": "stream",
     "text": [
      "Username\n"
     ]
    }
   ],
   "source": [
    "# printing the variable\n",
    "print(user)"
   ]
  },
  {
   "cell_type": "markdown",
   "metadata": {},
   "source": [
    "Of course, we can also just print the values from `environ`:"
   ]
  },
  {
   "cell_type": "code",
   "execution_count": 6,
   "metadata": {},
   "outputs": [
    {
     "name": "stdout",
     "output_type": "stream",
     "text": [
      "sEcReT\n"
     ]
    }
   ],
   "source": [
    "# printing an environment variable from os\n",
    "print(os.environ['TEST_PASSWORD'])"
   ]
  },
  {
   "cell_type": "markdown",
   "metadata": {},
   "source": [
    "In practice, you may first want to check that a variable does not already exist before setting it. Otherwise you will overwrite the original value."
   ]
  },
  {
   "cell_type": "code",
   "execution_count": 7,
   "metadata": {},
   "outputs": [],
   "source": [
    "# setting/updating an environment variable that already exists\n",
    "os.environ['TEST_USER'] = 'Sombody New'"
   ]
  },
  {
   "cell_type": "code",
   "execution_count": 8,
   "metadata": {},
   "outputs": [
    {
     "name": "stdout",
     "output_type": "stream",
     "text": [
      "TEST_USER: Sombody New\n"
     ]
    }
   ],
   "source": [
    "print(\"TEST_USER:\", os.environ['TEST_USER'])"
   ]
  },
  {
   "cell_type": "markdown",
   "metadata": {},
   "source": [
    "Oops! I hope we did not change anything important.\n",
    "\n",
    "Actually, environment variable changes performed in Python will not update system wide. It affects only the current Python environment. Updating `os.environ(TEMP)` in a Python script, for example, will not change your system's temporary directory (but your script will not necessarily know that).\n",
    "\n",
    "To check whether a variable exists, we can instantiate an object for it and print its value."
   ]
  },
  {
   "cell_type": "code",
   "execution_count": 9,
   "metadata": {},
   "outputs": [
    {
     "name": "stdout",
     "output_type": "stream",
     "text": [
      "None\n"
     ]
    }
   ],
   "source": [
    "# attempting to get environment variables that do not exist\n",
    "humpty = os.getenv('humpty') # None\n",
    "print(humpty)"
   ]
  },
  {
   "cell_type": "markdown",
   "metadata": {},
   "source": [
    "Alternately, we can check for a variable as follows:"
   ]
  },
  {
   "cell_type": "code",
   "execution_count": 10,
   "metadata": {},
   "outputs": [
    {
     "data": {
      "text/plain": [
       "False"
      ]
     },
     "execution_count": 10,
     "metadata": {},
     "output_type": "execute_result"
    }
   ],
   "source": [
    "# Is \"dumpty\" an existing key\n",
    "\"dumpty\" in os.environ # False"
   ]
  },
  {
   "cell_type": "markdown",
   "metadata": {},
   "source": [
    "Attempting to instantiate an object from the value associated with a nonexistent key returns the following `KeyError`."
   ]
  },
  {
   "cell_type": "code",
   "execution_count": 11,
   "metadata": {},
   "outputs": [
    {
     "ename": "KeyError",
     "evalue": "'horses'",
     "output_type": "error",
     "traceback": [
      "\u001b[1;31m---------------------------------------------------------------------------\u001b[0m",
      "\u001b[1;31mKeyError\u001b[0m                                  Traceback (most recent call last)",
      "\u001b[1;32m<ipython-input-11-4959e7a313d7>\u001b[0m in \u001b[0;36m<module>\u001b[1;34m()\u001b[0m\n\u001b[0;32m      1\u001b[0m \u001b[1;31m# trying to store the value of a nonexistent key\u001b[0m\u001b[1;33m\u001b[0m\u001b[1;33m\u001b[0m\u001b[1;33m\u001b[0m\u001b[0m\n\u001b[1;32m----> 2\u001b[1;33m \u001b[0mhorses\u001b[0m \u001b[1;33m=\u001b[0m \u001b[0mos\u001b[0m\u001b[1;33m.\u001b[0m\u001b[0menviron\u001b[0m\u001b[1;33m[\u001b[0m\u001b[1;34m'horses'\u001b[0m\u001b[1;33m]\u001b[0m \u001b[1;31m# KeyError: key does not exist.\u001b[0m\u001b[1;33m\u001b[0m\u001b[1;33m\u001b[0m\u001b[0m\n\u001b[0m",
      "\u001b[1;32mC:\\Users\\jamel\\AppData\\Local\\Continuum\\anaconda3\\envs\\profiler\\lib\\os.py\u001b[0m in \u001b[0;36m__getitem__\u001b[1;34m(self, key)\u001b[0m\n\u001b[0;32m    679\u001b[0m         \u001b[1;32mexcept\u001b[0m \u001b[0mKeyError\u001b[0m\u001b[1;33m:\u001b[0m\u001b[1;33m\u001b[0m\u001b[1;33m\u001b[0m\u001b[0m\n\u001b[0;32m    680\u001b[0m             \u001b[1;31m# raise KeyError with the original key value\u001b[0m\u001b[1;33m\u001b[0m\u001b[1;33m\u001b[0m\u001b[1;33m\u001b[0m\u001b[0m\n\u001b[1;32m--> 681\u001b[1;33m             \u001b[1;32mraise\u001b[0m \u001b[0mKeyError\u001b[0m\u001b[1;33m(\u001b[0m\u001b[0mkey\u001b[0m\u001b[1;33m)\u001b[0m \u001b[1;32mfrom\u001b[0m \u001b[1;32mNone\u001b[0m\u001b[1;33m\u001b[0m\u001b[1;33m\u001b[0m\u001b[0m\n\u001b[0m\u001b[0;32m    682\u001b[0m         \u001b[1;32mreturn\u001b[0m \u001b[0mself\u001b[0m\u001b[1;33m.\u001b[0m\u001b[0mdecodevalue\u001b[0m\u001b[1;33m(\u001b[0m\u001b[0mvalue\u001b[0m\u001b[1;33m)\u001b[0m\u001b[1;33m\u001b[0m\u001b[1;33m\u001b[0m\u001b[0m\n\u001b[0;32m    683\u001b[0m \u001b[1;33m\u001b[0m\u001b[0m\n",
      "\u001b[1;31mKeyError\u001b[0m: 'horses'"
     ]
    }
   ],
   "source": [
    "# trying to store the value of a nonexistent key\n",
    "horses = os.environ['horses'] # KeyError: key does not exist."
   ]
  },
  {
   "cell_type": "markdown",
   "metadata": {},
   "source": [
    "We can avoid accidentally updating an environment variable that already exists with an if/else statement. Let's first reset our `TEST_USER` variable."
   ]
  },
  {
   "cell_type": "code",
   "execution_count": 12,
   "metadata": {},
   "outputs": [
    {
     "name": "stdout",
     "output_type": "stream",
     "text": [
      "Username\n"
     ]
    }
   ],
   "source": [
    "# reset the 'TEST_USER' variable\n",
    "os.environ['TEST_USER'] = 'Username'\n",
    "user = os.getenv('TEST_USER')\n",
    "\n",
    "print(user)"
   ]
  },
  {
   "cell_type": "markdown",
   "metadata": {},
   "source": [
    "Let's include a message to report whether we were able to add the variable or whether it already exists."
   ]
  },
  {
   "cell_type": "code",
   "execution_count": 13,
   "metadata": {},
   "outputs": [
    {
     "name": "stdout",
     "output_type": "stream",
     "text": [
      "!!Environment variable already exists--no change made\n"
     ]
    }
   ],
   "source": [
    "# adding and instantiating an environment variable,\n",
    "# only if it does not already exist\n",
    "if not 'TEST_USER' in os.environ:\n",
    "    os.environ['TEST_USER'] = 'NEW'\n",
    "    user = os.getenv('TEST_USER')\n",
    "    print(\"Environment variable added\")\n",
    "else:\n",
    "    print(\"!!Environment variable already exists--no change made\")"
   ]
  },
  {
   "cell_type": "markdown",
   "metadata": {},
   "source": [
    "Similarly, we can use try/except to return a much simpler message for the error we receive when attempting to call a value from a nonexistent key."
   ]
  },
  {
   "cell_type": "code",
   "execution_count": 14,
   "metadata": {},
   "outputs": [
    {
     "name": "stdout",
     "output_type": "stream",
     "text": [
      "!!Environment variable does not exist\n"
     ]
    }
   ],
   "source": [
    "# printing the value of the \"King's horses\" environment variable\n",
    "try: \n",
    "    print(\"horses:\", os.environ['horses']) \n",
    "except KeyError:  \n",
    "    print(\"!!Environment variable does not exist\")"
   ]
  },
  {
   "cell_type": "markdown",
   "metadata": {},
   "source": [
    "It is worth noting that we can use normal Python dictionary methods on our environment variables."
   ]
  },
  {
   "cell_type": "code",
   "execution_count": 15,
   "metadata": {},
   "outputs": [
    {
     "data": {
      "text/plain": [
       "'Username'"
      ]
     },
     "execution_count": 15,
     "metadata": {},
     "output_type": "execute_result"
    }
   ],
   "source": [
    "os.environ.get('TEST_USER')"
   ]
  },
  {
   "cell_type": "code",
   "execution_count": 16,
   "metadata": {},
   "outputs": [
    {
     "data": {
      "text/plain": [
       "['ALLUSERSPROFILE',\n",
       " 'APPDATA',\n",
       " 'CENSUSDATAKEY',\n",
       " 'COMMONPROGRAMFILES',\n",
       " 'COMMONPROGRAMFILES(X86)']"
      ]
     },
     "execution_count": 16,
     "metadata": {},
     "output_type": "execute_result"
    }
   ],
   "source": [
    "list(os.environ.keys())[0:5]"
   ]
  },
  {
   "cell_type": "code",
   "execution_count": null,
   "metadata": {},
   "outputs": [],
   "source": []
  }
 ],
 "metadata": {
  "kernelspec": {
   "display_name": "Python 3",
   "language": "python",
   "name": "python3"
  },
  "language_info": {
   "codemirror_mode": {
    "name": "ipython",
    "version": 3
   },
   "file_extension": ".py",
   "mimetype": "text/x-python",
   "name": "python",
   "nbconvert_exporter": "python",
   "pygments_lexer": "ipython3",
   "version": "3.7.9"
  }
 },
 "nbformat": 4,
 "nbformat_minor": 4
}
